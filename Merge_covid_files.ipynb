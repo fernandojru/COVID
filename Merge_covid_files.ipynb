{
 "cells": [
  {
   "cell_type": "code",
   "execution_count": 8,
   "metadata": {},
   "outputs": [],
   "source": [
    "import os\n",
    "import glob\n",
    "import pandas as pd"
   ]
  },
  {
   "cell_type": "code",
   "execution_count": 9,
   "metadata": {},
   "outputs": [
    {
     "data": {
      "text/plain": [
       "'/Users/fernandorodriguez/Downloads/Daily'"
      ]
     },
     "execution_count": 9,
     "metadata": {},
     "output_type": "execute_result"
    }
   ],
   "source": [
    "os.chdir(\"/Users/fernandorodriguez/Downloads/Daily\")\n",
    "os.getcwd()"
   ]
  },
  {
   "cell_type": "code",
   "execution_count": 10,
   "metadata": {},
   "outputs": [],
   "source": [
    "extension = 'csv'\n",
    "all_filenames = [i for i in glob.glob('*.{}'.format(extension))]"
   ]
  },
  {
   "cell_type": "code",
   "execution_count": 11,
   "metadata": {},
   "outputs": [
    {
     "data": {
      "text/plain": [
       "['02-26-2020.csv',\n",
       " '02-27-2020.csv',\n",
       " '02-18-2020.csv',\n",
       " '02-19-2020.csv',\n",
       " '03-24-2020.csv',\n",
       " '03-25-2020.csv',\n",
       " '03-10-2020.csv',\n",
       " '03-11-2020.csv',\n",
       " '02-12-2020.csv',\n",
       " '02-13-2020.csv',\n",
       " '03-07-2020.csv',\n",
       " '03-06-2020.csv',\n",
       " '02-05-2020.csv',\n",
       " '02-04-2020.csv',\n",
       " '02-08-2020.csv',\n",
       " '02-09-2020.csv',\n",
       " '03-01-2020.csv',\n",
       " '02-02-2020.csv',\n",
       " '02-03-2020.csv',\n",
       " '01-31-2020.csv',\n",
       " '01-30-2020.csv',\n",
       " '02-21-2020.csv',\n",
       " '02-20-2020.csv',\n",
       " '03-23-2020.csv',\n",
       " '03-22-2020.csv',\n",
       " '03-17-2020.csv',\n",
       " '03-16-2020.csv',\n",
       " '02-15-2020.csv',\n",
       " '02-14-2020.csv',\n",
       " '01-26-2020.csv',\n",
       " '01-27-2020.csv',\n",
       " '03-29-2020.csv',\n",
       " '03-28-2020.csv',\n",
       " '03-04-2020.csv',\n",
       " '03-05-2020.csv',\n",
       " '02-06-2020.csv',\n",
       " '02-07-2020.csv',\n",
       " '03-30-2020.csv',\n",
       " '03-31-2020.csv',\n",
       " '04-01-2020.csv',\n",
       " '03-13-2020.csv',\n",
       " '03-12-2020.csv',\n",
       " '01-22-2020.csv',\n",
       " '01-23-2020.csv',\n",
       " '02-11-2020.csv',\n",
       " '02-10-2020.csv',\n",
       " '02-25-2020.csv',\n",
       " '02-24-2020.csv',\n",
       " '03-19-2020.csv',\n",
       " '03-18-2020.csv',\n",
       " '01-28-2020.csv',\n",
       " '01-29-2020.csv',\n",
       " '03-27-2020.csv',\n",
       " '03-26-2020.csv',\n",
       " '02-28-2020.csv',\n",
       " '02-29-2020.csv',\n",
       " '03-14-2020.csv',\n",
       " '03-15-2020.csv',\n",
       " '01-25-2020.csv',\n",
       " '01-24-2020.csv',\n",
       " '02-16-2020.csv',\n",
       " '02-17-2020.csv',\n",
       " '02-22-2020.csv',\n",
       " '02-23-2020.csv',\n",
       " '03-20-2020.csv',\n",
       " '03-21-2020.csv',\n",
       " '03-03-2020.csv',\n",
       " '03-02-2020.csv',\n",
       " '02-01-2020.csv',\n",
       " '03-09-2020.csv',\n",
       " '03-08-2020.csv']"
      ]
     },
     "execution_count": 11,
     "metadata": {},
     "output_type": "execute_result"
    }
   ],
   "source": [
    "all_filenames"
   ]
  },
  {
   "cell_type": "code",
   "execution_count": 12,
   "metadata": {},
   "outputs": [
    {
     "name": "stderr",
     "output_type": "stream",
     "text": [
      "/Users/fernandorodriguez/opt/anaconda3/lib/python3.7/site-packages/ipykernel_launcher.py:2: FutureWarning: Sorting because non-concatenation axis is not aligned. A future version\n",
      "of pandas will change to not sort by default.\n",
      "\n",
      "To accept the future behavior, pass 'sort=False'.\n",
      "\n",
      "To retain the current behavior and silence the warning, pass 'sort=True'.\n",
      "\n",
      "  \n"
     ]
    }
   ],
   "source": [
    "#combine all files in the list\n",
    "combined_csv = pd.concat([pd.read_csv(f) for f in all_filenames ])"
   ]
  },
  {
   "cell_type": "code",
   "execution_count": 13,
   "metadata": {},
   "outputs": [],
   "source": [
    "#export to csv\n",
    "combined_csv.to_csv( \"combined_csv.csv\", index=False, encoding='utf-8-sig')"
   ]
  },
  {
   "cell_type": "code",
   "execution_count": null,
   "metadata": {},
   "outputs": [],
   "source": []
  }
 ],
 "metadata": {
  "kernelspec": {
   "display_name": "Python 3",
   "language": "python",
   "name": "python3"
  },
  "language_info": {
   "codemirror_mode": {
    "name": "ipython",
    "version": 3
   },
   "file_extension": ".py",
   "mimetype": "text/x-python",
   "name": "python",
   "nbconvert_exporter": "python",
   "pygments_lexer": "ipython3",
   "version": "3.7.4"
  }
 },
 "nbformat": 4,
 "nbformat_minor": 4
}
